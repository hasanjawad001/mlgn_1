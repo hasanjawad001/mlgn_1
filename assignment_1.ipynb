{
 "cells": [
  {
   "cell_type": "code",
   "execution_count": 1,
   "metadata": {},
   "outputs": [],
   "source": [
    "import networkx as nx\n",
    "import numpy as np\n",
    "import matplotlib\n",
    "import matplotlib.pyplot as plt\n",
    "import matplotlib.gridspec as gridspec"
   ]
  },
  {
   "cell_type": "markdown",
   "metadata": {},
   "source": [
    "### 1 Analyzing the Wikipedia voters network [9 points]\n",
    "\n",
    "Download the Wikipedia voting network wiki-Vote.txt.gz: http://snap.stanford.edu/ data/wiki-\n",
    "Vote.html.\n",
    "Using one of the network analysis tools above, load the Wikipedia voting network. Note that\n",
    "Wikipedia is a directed network. Formally, we consider the Wikipedia network as a directed graph\n",
    "G = (V, E), with node set V and edge set E ⊂ V × V where (edges are ordered pairs of nodes). An edge\n",
    "(a, b) ∈ E means that user a voted on user b.\n",
    "To make our questions clearer, we will use the following small graph as a running example:\n",
    "Gsmall = (Vsmall, Esmall), where Vsmall = {1,2,3} and Esmall = {(1,2), (2,1), (1,3), (1,1)}.\n",
    "Compute and print out the following statistics for the wiki-Vote network:\n",
    "1. The number of nodes in the network. (Gsmall has 3 nodes.)\n",
    "2. The number of nodes with a self-edge (self-loop), i.e., the number of nodes a ∈ V where (a,a) ∈ E.\n",
    "(Gsmall has 1 self-edge.)\n",
    "3. The number of directed edges in the network, i.e., the number of ordered pairs (a,b) ∈ E for which\n",
    "a¹b. (Gsmall has 3 directed edges.)\n",
    "4. The number of undirected edges in the network, i.e., the number of unique unordered pairs (a,b),\n",
    "a¹ b, for which (a,b) ∈ E or (b, a) ∈ E (or both). If both (a, b) and (b, a) are edges, this counts a\n",
    "single undirected edge. (Gsmall has 2 undirected edges.)\n",
    "5. The number of reciprocated edges in the network, i.e., the number of unique unordered pairs of\n",
    "nodes (a,b), a¹b, for which (a,b) ∈ E and (b,a) ∈ E. (Gsmall has 1 reciprocated edge.)\n",
    "6. The number of nodes of zero out-degree. (Gsmall has 1 node with zero out-degree.)\n",
    "7. The number of nodes of zero in-degree. (Gsmall has 0 nodes with zero in-degree.)\n",
    "8. The number of nodes with more than 10 outgoing edges (out-degree > 10).\n",
    "9. The number of nodes with fewer than 10 incoming edges (in-degree < 10).\n",
    "Each sub-question is worth 1 point.\n",
    "\n",
    "### 2 Further Analyzing the Wikipedia voters network [6 points]\n",
    "For this problem, we use the Wikipedia voters network. If you are using Python, you might want to\n",
    "use NumPy, SciPy, and/or Matplotlib libraries.\n",
    "1. Plot the distribution of out-degrees of nodes in the network on a log-log scale. Each data point is\n",
    "a pair (x,y) where x is a positive integer and y is the number of nodes in the network with outdegree\n",
    "equal to x. Restrict the range of x between the minimum and maximum out-degrees. You\n",
    "may filter out data points with a 0 entry. For the log-log scale, use base 10 for both x and y axes.\n",
    "\n",
    "### 3 Finding Experts on the Java Programming Language on StackOverflow\n",
    "[5 points]\n",
    "Download the StackOverflow network stackoverflow-Java.txt.gz: http://snap.stanford.\n",
    "edu/class/cs224w-data/hw0/stackoverflow-Java.txt.gz. An edge (a,b) in the network means that person\n",
    "a endorsed an answer from person b on a Java-related question.\n",
    "Using one of the network analysis tools above, load the StackOverflow network. Note that\n",
    "StackOverflow is a directed network.\n",
    "Compute and print out the following statistics for the stackoverflow-Java network:\n",
    "1. The number of weakly connected components in the network. This value can be calculated in\n",
    "NETWORKX via function weakly_connected_components.\n",
    "2. The number of edges and the number of nodes in the largest weakly connected component. The\n",
    "largest weakly connected component is calculated via function call in NETWORKX\n",
    "\n",
    "4 Network Characteristics [40 points]:\n",
    "One of the goals of network analysis is to find mathematical models that characterize real-world\n",
    "networks and that can then be used to generate new networks with similar properties. In this\n",
    "problem, we will explore two famous models—Erdos-Renyi and Small World—and compare them to\n",
    "real-world data from an academic collaboration network. Note that in this problem all networks are\n",
    "undirected.\n",
    "Erdos-Renyi Random graph (G(n, m) random network): Generate a random instance of this model by\n",
    "using n = 5242 nodes and picking m = 14484 edges at random. Write code to construct instances of\n",
    "this model, i.e., do not call the NetworkX function. Compare your results (major properties like degree\n",
    "distribution, clustering coefficient, and diameter) with the NetworkX implementation."
   ]
  },
  {
   "cell_type": "code",
   "execution_count": null,
   "metadata": {},
   "outputs": [],
   "source": []
  }
 ],
 "metadata": {
  "kernelspec": {
   "display_name": "Python 3",
   "language": "python",
   "name": "python3"
  },
  "language_info": {
   "codemirror_mode": {
    "name": "ipython",
    "version": 3
   },
   "file_extension": ".py",
   "mimetype": "text/x-python",
   "name": "python",
   "nbconvert_exporter": "python",
   "pygments_lexer": "ipython3",
   "version": "3.7.7"
  },
  "pycharm": {
   "stem_cell": {
    "cell_type": "raw",
    "metadata": {
     "collapsed": false
    },
    "source": []
   }
  }
 },
 "nbformat": 4,
 "nbformat_minor": 4
}
