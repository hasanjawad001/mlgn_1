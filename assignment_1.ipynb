{
 "cells": [
  {
   "cell_type": "markdown",
   "metadata": {},
   "source": [
    "## Jawad Chowdhury (801135477)"
   ]
  },
  {
   "cell_type": "code",
   "execution_count": 1,
   "metadata": {},
   "outputs": [],
   "source": [
    "import networkx as nx\n",
    "import numpy as np\n",
    "import matplotlib\n",
    "import matplotlib.pyplot as plt\n",
    "import matplotlib.gridspec as gridspec"
   ]
  },
  {
   "cell_type": "markdown",
   "metadata": {},
   "source": [
    "### 1 Analyzing the Wikipedia voters network [9 points]"
   ]
  },
  {
   "cell_type": "code",
   "execution_count": 2,
   "metadata": {},
   "outputs": [
    {
     "name": "stdout",
     "output_type": "stream",
     "text": [
      "The number of nodes in the network :  7115\n",
      "The number of nodes with a self-edge (self-loop) :  0\n",
      "The number of directed edges in the network :  103689\n",
      "The number of undirected edges in the network :  100762\n",
      "The number of reciprocated edges in the network :  2927\n",
      "The number of nodes of zero out-degree :  1005\n",
      "The number of nodes of zero in-degree :  4734\n",
      "The number of nodes with more than 10 outgoing edges :  1612\n",
      "The number of nodes with fewer than 10 incoming edges :  5165\n"
     ]
    }
   ],
   "source": [
    "def get_len_reciprocated_edges(G):\n",
    "    c=0\n",
    "    for e in G.edges:\n",
    "        if (e[0] != e[1]) and (e[1],e[0]) in G.edges:\n",
    "                c+=1\n",
    "    return int(c/2)\n",
    "\n",
    "def get_len_out_degree(G, val_out_degree):\n",
    "    out_degree_view = G.out_degree()\n",
    "    c = 0\n",
    "    for elem in out_degree_view:\n",
    "        if elem[1] == val_out_degree:\n",
    "            c+=1\n",
    "    return c\n",
    "\n",
    "def get_len_in_degree(G, val_in_degree):\n",
    "    in_degree_view = G.in_degree()\n",
    "    c = 0\n",
    "    for elem in in_degree_view:\n",
    "        if elem[1] == val_in_degree:\n",
    "            c+=1\n",
    "    return c\n",
    "\n",
    "def get_len_out_degree_gt_10(G):\n",
    "    out_degree_view = G.out_degree()\n",
    "    c = 0\n",
    "    for elem in out_degree_view:\n",
    "        if elem[1] > 10:\n",
    "            c+=1\n",
    "    return c\n",
    "\n",
    "def get_len_in_degree_lt_10(G):\n",
    "    in_degree_view = G.in_degree()\n",
    "    c = 0\n",
    "    for elem in in_degree_view:\n",
    "        if elem[1] < 10:\n",
    "            c+=1\n",
    "    return c\n",
    "\n",
    "# file_name = \"test_1.txt\"\n",
    "file_name = \"Wiki-Vote.txt\"\n",
    "dG = nx.read_edgelist(file_name, create_using=nx.DiGraph)\n",
    "uG = dG.to_undirected()\n",
    "no_edges = dG.number_of_edges()\n",
    "no_edges_uG = uG.number_of_edges()\n",
    "a1 = dG.number_of_nodes() \n",
    "a2 = len(list(nx.selfloop_edges(dG)))\n",
    "a3 = no_edges - a2\n",
    "a4 = no_edges_uG - a2\n",
    "a5 = get_len_reciprocated_edges(dG) \n",
    "a6 = get_len_out_degree(dG,0)\n",
    "a7 = get_len_in_degree(dG,0)\n",
    "a8 = get_len_out_degree_gt_10(dG)\n",
    "a9 = get_len_in_degree_lt_10(dG)\n",
    "\n",
    "print(\"The number of nodes in the network : \", a1)\n",
    "print(\"The number of nodes with a self-edge (self-loop) : \", a2)\n",
    "print(\"The number of directed edges in the network : \", a3)\n",
    "print(\"The number of undirected edges in the network : \", a4)\n",
    "print(\"The number of reciprocated edges in the network : \", a5)\n",
    "print(\"The number of nodes of zero out-degree : \", a6)\n",
    "print(\"The number of nodes of zero in-degree : \", a7)\n",
    "print(\"The number of nodes with more than 10 outgoing edges : \", a8)\n",
    "print(\"The number of nodes with fewer than 10 incoming edges : \", a9)"
   ]
  },
  {
   "cell_type": "markdown",
   "metadata": {},
   "source": [
    "### 2 Further Analyzing the Wikipedia voters network [6 points]"
   ]
  },
  {
   "cell_type": "code",
   "execution_count": 3,
   "metadata": {},
   "outputs": [
    {
     "data": {
      "text/plain": [
       "Text(0, 0.5, 'Count')"
      ]
     },
     "execution_count": 3,
     "metadata": {},
     "output_type": "execute_result"
    },
    {
     "data": {
      "image/png": "[encoded data removed]",
      "text/plain": [
       "<Figure size 432x288 with 1 Axes>"
      ]
     },
     "metadata": {
      "needs_background": "light"
     },
     "output_type": "display_data"
    }
   ],
   "source": [
    "list_od = dG.out_degree()\n",
    "list_sod = sorted(list_od, key=lambda tup: tup[1])\n",
    "min_x = list_sod[0][1]\n",
    "max_x = list_sod[-1][1]\n",
    "dict_od = {}\n",
    "for elem in list_sod:\n",
    "    if elem[1] not in dict_od.keys():\n",
    "        dict_od[elem[1]] = 1\n",
    "    else:\n",
    "        dict_od[elem[1]] += 1\n",
    "list_x = []\n",
    "list_y = []\n",
    "for k,v in dict_od.items():\n",
    "    list_x.append(k)\n",
    "    list_y.append(v)\n",
    "fig1 = plt.figure(constrained_layout=True)\n",
    "spec1 = gridspec.GridSpec(ncols=1, nrows=1, figure=fig1)\n",
    "ax1 = fig1.add_subplot(spec1[0, 0])\n",
    "fig1.suptitle('Plot : Out Degree Distribution (scale: log-log)')\n",
    "# ax1.plot(list_x, list_y, color='blue', marker='.')\n",
    "ax1.loglog(list_x, list_y, color='blue', marker='.')\n",
    "ax1.set_xlabel('Out Degree')\n",
    "ax1.set_ylabel('Count')"
   ]
  },
  {
   "cell_type": "markdown",
   "metadata": {},
   "source": [
    "### 3 Finding Experts on the Java Programming Language on StackOverflow[5 points]"
   ]
  },
  {
   "cell_type": "code",
   "execution_count": 4,
   "metadata": {},
   "outputs": [
    {
     "name": "stdout",
     "output_type": "stream",
     "text": [
      "1. The number of weakly connected components in the network :  10143\n",
      "2a. The number of nodes in the largest weakly connected component :  131188\n",
      "2b. The number of edges in the largest weakly connected component :  322486\n"
     ]
    }
   ],
   "source": [
    "file_name = \"stackoverflow-java.txt\"\n",
    "dG_stack = nx.read_edgelist(file_name, create_using=nx.DiGraph)\n",
    "no_wcc_stack = len(list(nx.weakly_connected_components(dG_stack)))\n",
    "largest_wcc_stack = dG_stack.subgraph(sorted(nx.weakly_connected_components(dG_stack), key=len, reverse=True)[0])\n",
    "no_nodes_lwccs = largest_wcc_stack.number_of_nodes()\n",
    "no_edges_lwccs = largest_wcc_stack.number_of_edges()\n",
    "print(\"1. The number of weakly connected components in the network : \", no_wcc_stack)\n",
    "print(\"2a. The number of nodes in the largest weakly connected component : \", no_nodes_lwccs)\n",
    "print(\"2b. The number of edges in the largest weakly connected component : \", no_edges_lwccs)"
   ]
  },
  {
   "cell_type": "markdown",
   "metadata": {},
   "source": [
    "### 4 Network Characteristics [40 points]:"
   ]
  },
  {
   "cell_type": "code",
   "execution_count": 5,
   "metadata": {},
   "outputs": [],
   "source": [
    "import random\n",
    "class CustomGnm:\n",
    "    def __init__(self, n, m, directed=False):\n",
    "        self.n = n\n",
    "        self.m = m\n",
    "        self.directed = directed\n",
    "        self.nodes = self.build_nodes()\n",
    "        self.edges = self.build_edges()\n",
    "        self.graph = self.build_graph()\n",
    "\n",
    "    def build_nodes(self):\n",
    "        return [i for i in range(self.n)]\n",
    "\n",
    "    def build_edges(self):\n",
    "        list_edges = []\n",
    "        list_possible_edges = []\n",
    "        if not self.directed:\n",
    "            i = 0\n",
    "            for i in range(self.n):\n",
    "                a = self.nodes[i]\n",
    "                for b in self.nodes[i+1:]:\n",
    "                    list_possible_edges.append((a,b))\n",
    "        len_possible_edges = (len(list_possible_edges))\n",
    "        count_edge = 0\n",
    "        while (count_edge < self.m):\n",
    "            i = random.randint(0,len_possible_edges-1)\n",
    "            possible_edge = list_possible_edges[i]\n",
    "            if possible_edge not in list_edges:\n",
    "                list_edges.append(possible_edge)\n",
    "                count_edge +=1\n",
    "        return list_edges\n",
    "\n",
    "    def build_graph(self):\n",
    "        G = nx.Graph()\n",
    "        G.add_nodes_from(self.nodes)\n",
    "        G.add_edges_from(self.edges)\n",
    "        return G.to_undirected()\n",
    "\n",
    "class CustomSmallWorldRandomNetwork:\n",
    "    def __init__(self, n, m=0, directed=False, no_random_edge=0):\n",
    "        self.no_random_edge = no_random_edge\n",
    "        self.n = n\n",
    "        self.directed = directed\n",
    "        self.nodes = self.build_nodes()\n",
    "        self.edges = self.build_edges()\n",
    "        self.m = len(self.edges)\n",
    "        if self.m != m:\n",
    "            raise Exception(\"Error on Graph Formulation!!!\")\n",
    "        self.graph = self.build_graph()\n",
    "\n",
    "    def build_nodes(self):\n",
    "        return [i for i in range(self.n)]\n",
    "\n",
    "    def build_edges(self):\n",
    "        list_edges = []\n",
    "        if not self.directed:\n",
    "            i = 0\n",
    "            for i in range(self.n):\n",
    "                a = self.nodes[i]\n",
    "                next_1_node = (i+1)%self.n\n",
    "                prev_1_node = (self.n + i-1)%self.n\n",
    "                next_2_node = (i+2)%self.n\n",
    "                prev_2_node = (self.n + i-2)%self.n\n",
    "                if (a,next_1_node) not in list_edges:\n",
    "                    list_edges.append((a,next_1_node))\n",
    "                if (prev_1_node,a) not in list_edges:\n",
    "                    list_edges.append((prev_1_node,a))\n",
    "                if (a,next_2_node) not in list_edges:\n",
    "                    list_edges.append((a,next_2_node))\n",
    "                if (prev_2_node,a) not in list_edges:\n",
    "                    list_edges.append((prev_2_node,a))\n",
    "        count_edge = 0\n",
    "        while (count_edge < self.no_random_edge):\n",
    "            a = random.randint(0,self.n-1)\n",
    "            b = random.randint(0,self.n-1)\n",
    "            if a != b:\n",
    "                if (a,b) not in list_edges and (b,a) not in list_edges:\n",
    "                    list_edges.append((a,b))\n",
    "                    count_edge +=1\n",
    "        return list_edges\n",
    "\n",
    "    def build_graph(self):\n",
    "        G = nx.Graph()\n",
    "        G.add_nodes_from(self.nodes)\n",
    "        G.add_edges_from(self.edges)\n",
    "        return G.to_undirected()\n",
    "\n",
    "cgnm = CustomGnm(5242,14484)\n",
    "cswrn = CustomSmallWorldRandomNetwork(5242,14484,no_random_edge=4000)\n",
    "ngnm = nx.gnm_random_graph(5242,14484)\n",
    "# cgnm = CustomGnm(6,14)\n",
    "# cswrn = CustomSmallWorldRandomNetwork(6,14,no_random_edge=2)\n",
    "# ngnm = nx.gnm_random_graph(6,14)"
   ]
  },
  {
   "cell_type": "code",
   "execution_count": 13,
   "metadata": {},
   "outputs": [],
   "source": [
    "def plot_degree_distribution(list_graph, scale='normal'):\n",
    "    plt.figure(figsize=(21,6))\n",
    "\n",
    "    plt.subplot(1,3,1)\n",
    "    G = list_graph[0]\n",
    "    list_d = G.degree()\n",
    "    list_sd = sorted(list_d, key=lambda tup: tup[1])\n",
    "    min_x = list_sd[0][1]\n",
    "    max_x = list_sd[-1][1]\n",
    "    dict_d = {}\n",
    "    for elem in list_sd:\n",
    "        if elem[1] not in dict_d.keys():\n",
    "            dict_d[elem[1]] = 1\n",
    "        else:\n",
    "            dict_d[elem[1]] += 1\n",
    "    list_x = []\n",
    "    list_y = []\n",
    "    for k,v in dict_d.items():\n",
    "        list_x.append(k)\n",
    "        list_y.append(v)\n",
    "    if scale == 'normal':\n",
    "        plt.plot(list_x, list_y, 'r')\n",
    "    if scale == 'log':\n",
    "        plt.loglog(list_x, list_y, 'r')\n",
    "    plt.title('Custom Gnm')\n",
    "\n",
    "    plt.subplot(1,3,2)\n",
    "    G = list_graph[1]\n",
    "    list_d = G.degree()\n",
    "    list_sd = sorted(list_d, key=lambda tup: tup[1])\n",
    "    min_x = list_sd[0][1]\n",
    "    max_x = list_sd[-1][1]\n",
    "    dict_d = {}\n",
    "    for elem in list_sd:\n",
    "        if elem[1] not in dict_d.keys():\n",
    "            dict_d[elem[1]] = 1\n",
    "        else:\n",
    "            dict_d[elem[1]] += 1\n",
    "    list_x = []\n",
    "    list_y = []\n",
    "    for k,v in dict_d.items():\n",
    "        list_x.append(k)\n",
    "        list_y.append(v)\n",
    "    if scale == 'normal':\n",
    "        plt.plot(list_x, list_y, 'g')\n",
    "    if scale == 'log':\n",
    "        plt.loglog(list_x, list_y, 'g')\n",
    "    plt.title('Custom Small World Random Network')\n",
    "\n",
    "    plt.subplot(1,3,3)\n",
    "    G = list_graph[2]\n",
    "    list_d = G.degree()\n",
    "    list_sd = sorted(list_d, key=lambda tup: tup[1])\n",
    "    min_x = list_sd[0][1]\n",
    "    max_x = list_sd[-1][1]\n",
    "    dict_d = {}\n",
    "    for elem in list_sd:\n",
    "        if elem[1] not in dict_d.keys():\n",
    "            dict_d[elem[1]] = 1\n",
    "        else:\n",
    "            dict_d[elem[1]] += 1\n",
    "    list_x = []\n",
    "    list_y = []\n",
    "    for k,v in dict_d.items():\n",
    "        list_x.append(k)\n",
    "        list_y.append(v)\n",
    "    if scale == 'normal':\n",
    "        plt.plot(list_x, list_y, 'b')\n",
    "    if scale == 'log':\n",
    "        plt.loglog(list_x, list_y, 'b')\n",
    "    plt.title('NetworkX Gnm Implementation')\n",
    "    "
   ]
  },
  {
   "cell_type": "code",
   "execution_count": 14,
   "metadata": {},
   "outputs": [],
   "source": [
    "def get_clustering_coefficient(G):\n",
    "    return nx.average_clustering(G)"
   ]
  },
  {
   "cell_type": "code",
   "execution_count": 15,
   "metadata": {},
   "outputs": [],
   "source": [
    "def get_diameter(G):\n",
    "    if nx.is_connected(G):\n",
    "        d = nx.diameter(G)\n",
    "    else:\n",
    "        d = 0\n",
    "        list_cc = nx.connected_components(G)\n",
    "        for cc in list_cc:\n",
    "            component = G.subgraph(cc)\n",
    "            local_d = nx.diameter(component)\n",
    "            if local_d > d:\n",
    "                d = local_d\n",
    "    return d"
   ]
  },
  {
   "cell_type": "markdown",
   "metadata": {},
   "source": [
    "### Degree Distribution (Count vs Degree)"
   ]
  },
  {
   "cell_type": "code",
   "execution_count": 16,
   "metadata": {},
   "outputs": [
    {
     "data": {
      "image/png": "[encoded data removed]",
      "text/plain": [
       "<Figure size 1512x432 with 3 Axes>"
      ]
     },
     "metadata": {
      "needs_background": "light"
     },
     "output_type": "display_data"
    }
   ],
   "source": [
    "plot_degree_distribution([cgnm.graph, cswrn.graph, ngnm], scale='normal')"
   ]
  },
  {
   "cell_type": "markdown",
   "metadata": {},
   "source": [
    "### Log-log Degree Distribution (Count vs Degree)"
   ]
  },
  {
   "cell_type": "code",
   "execution_count": 17,
   "metadata": {},
   "outputs": [
    {
     "data": {
      "image/png": "[encoded data removed]",
      "text/plain": [
       "<Figure size 1512x432 with 3 Axes>"
      ]
     },
     "metadata": {
      "needs_background": "light"
     },
     "output_type": "display_data"
    }
   ],
   "source": [
    "plot_degree_distribution([cgnm.graph, cswrn.graph, ngnm], scale='log')"
   ]
  },
  {
   "cell_type": "markdown",
   "metadata": {},
   "source": [
    "### Clustering Coefficient"
   ]
  },
  {
   "cell_type": "code",
   "execution_count": 18,
   "metadata": {},
   "outputs": [
    {
     "name": "stdout",
     "output_type": "stream",
     "text": [
      "Clustering Coefficient (Custom Gnm) :  0.0006461023820810161\n",
      "Clustering Coefficient (Small World Random Network) :  0.2839837025071631\n",
      "Clustering Coefficient (NetworkX Implementation) :  0.0008180636185214584\n"
     ]
    }
   ],
   "source": [
    "cc_cgnm = get_clustering_coefficient(cgnm.graph)\n",
    "cc_cswrn = get_clustering_coefficient(cswrn.graph)\n",
    "cc_ngnm = get_clustering_coefficient(ngnm)\n",
    "\n",
    "print('Clustering Coefficient (Custom Gnm) : ', cc_cgnm)\n",
    "print('Clustering Coefficient (Small World Random Network) : ', cc_cswrn)\n",
    "print('Clustering Coefficient (NetworkX Implementation) : ', cc_ngnm)"
   ]
  },
  {
   "cell_type": "markdown",
   "metadata": {},
   "source": [
    "### Diameter"
   ]
  },
  {
   "cell_type": "code",
   "execution_count": 12,
   "metadata": {},
   "outputs": [
    {
     "name": "stdout",
     "output_type": "stream",
     "text": [
      "Diameter (Custom Gnm) :  11\n",
      "Diameter (Small World Random Network) :  10\n",
      "Diameter (NetworkX Implementation) :  10\n"
     ]
    }
   ],
   "source": [
    "d_cgnm = get_diameter(cgnm.graph)\n",
    "d_cswrn = get_diameter(cswrn.graph)\n",
    "d_ngnm = get_diameter(ngnm)\n",
    "\n",
    "print('Diameter (Custom Gnm) : ', d_cgnm)\n",
    "print('Diameter (Small World Random Network) : ', d_cswrn)\n",
    "print('Diameter (NetworkX Implementation) : ', d_ngnm)"
   ]
  },
  {
   "cell_type": "markdown",
   "metadata": {},
   "source": [
    "### 5 Random Graphs with Clustering [40 points]"
   ]
  },
  {
   "cell_type": "markdown",
   "metadata": {},
   "source": [
    "Consider\t the\t following\t random\tgraph\tmodel\twith\t clustering.\t For\tn nodes,\twe\t have ${n \\choose 3}$ distinct\t‘triplets’.<br>\t For\t each\ttriplet,\t with\tindependent\t probability\t $p$ we\t connect\t the\t nodes\tbelonging\t to\t this\ttriplet\tin\tthe\tgraph\tusing\tthree\tedges\tto\tform\ta\ttriangle,<br>\twhere $p = \\dfrac{c}{{n-1 \\choose 2}}$, where $c$ is a constant.\n",
    "Assume n is very large. "
   ]
  },
  {
   "cell_type": "markdown",
   "metadata": {},
   "source": [
    "#### Question 1: Prove\tthat\tthe\texpected\tdegree\tin\tthis\tmodel\tis\t2c. \n",
    "[Hint:\texpected\tdegree\tof\ta\tnode u\t in\t this\tgenerative\tmodel\tis\tequal\tto\ttwice\tthe\texpected\tnumber\tof\ttriangles\tincident\ton\tu]\n"
   ]
  },
  {
   "cell_type": "markdown",
   "metadata": {},
   "source": [
    "**Answer 1:**<br>\n",
    "To form a triplet, for each node $a$, we need a pair $(b,c)$ where $a\\neq b\\neq c$.<br>\n",
    "So, for each node, the possible number of pairs (to form a triplet) = possible number of triplets $=  {n-1 \\choose 2} $<br>\n",
    "Given that, for each triplet, independent probability of forming a triangle $= p$<br>\n",
    "Therefore, for each node, expected number of triangles $= p*{n-1 \\choose 2}$<br>\n",
    "Here, $ p = \\dfrac{c}{{n-1 \\choose 2}}$<br>\n",
    "so, for each node, expected number of triagles $= \\dfrac{c}{{n-1 \\choose 2}}*{n-1 \\choose 2} = c$ <br>\n",
    "so, expected degree of each node $= 2*$expected number of triangles for that node $= 2c$."
   ]
  },
  {
   "cell_type": "markdown",
   "metadata": {},
   "source": [
    "#### Question 2: What\tis\tthe\tclustering\tcoefficient\tC?\tWhat\tis\tthe\tvalue\tof\tC as\tn\ttends\tto\tinfinity?"
   ]
  },
  {
   "cell_type": "markdown",
   "metadata": {},
   "source": [
    " "
   ]
  },
  {
   "cell_type": "markdown",
   "metadata": {},
   "source": [
    "#### Question 3: Implement\tthis\tmodel\tto\tcomputationally\tderive\tdegree\tdistribution,\tdiameter,\tand\tclustering\tcoefficient."
   ]
  },
  {
   "cell_type": "markdown",
   "metadata": {},
   "source": [
    " "
   ]
  },
  {
   "cell_type": "code",
   "execution_count": null,
   "metadata": {},
   "outputs": [],
   "source": [
    " "
   ]
  },
  {
   "cell_type": "code",
   "execution_count": null,
   "metadata": {},
   "outputs": [],
   "source": []
  }
 ],
 "metadata": {
  "kernelspec": {
   "display_name": "Python 3",
   "language": "python",
   "name": "python3"
  },
  "language_info": {
   "codemirror_mode": {
    "name": "ipython",
    "version": 3
   },
   "file_extension": ".py",
   "mimetype": "text/x-python",
   "name": "python",
   "nbconvert_exporter": "python",
   "pygments_lexer": "ipython3",
   "version": "3.7.7"
  },
  "pycharm": {
   "stem_cell": {
    "cell_type": "raw",
    "metadata": {
     "collapsed": false
    },
    "source": []
   }
  }
 },
 "nbformat": 4,
 "nbformat_minor": 4
}
