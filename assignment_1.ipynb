{
 "cells": [
  {
   "cell_type": "code",
   "execution_count": 96,
   "metadata": {},
   "outputs": [],
   "source": [
    "import networkx as nx\n",
    "import numpy as np\n",
    "import matplotlib\n",
    "import matplotlib.pyplot as plt\n",
    "import matplotlib.gridspec as gridspec"
   ]
  },
  {
   "cell_type": "markdown",
   "metadata": {},
   "source": [
    "### 1 Analyzing the Wikipedia voters network [9 points]"
   ]
  },
  {
   "cell_type": "code",
   "execution_count": 97,
   "metadata": {},
   "outputs": [
    {
     "name": "stdout",
     "output_type": "stream",
     "text": [
      "The number of nodes in the network :  7115\n",
      "The number of nodes with a self-edge (self-loop) :  0\n",
      "The number of directed edges in the network :  103689\n",
      "The number of undirected edges in the network :  100762\n",
      "The number of reciprocated edges in the network :  2927\n",
      "The number of nodes of zero out-degree :  1005\n",
      "The number of nodes of zero in-degree :  4734\n",
      "The number of nodes with more than 10 outgoing edges :  1612\n",
      "The number of nodes with fewer than 10 incoming edges :  5165\n"
     ]
    }
   ],
   "source": [
    "def get_len_reciprocated_edges(G):\n",
    "    c=0\n",
    "    for e in G.edges:\n",
    "        if (e[0] != e[1]) and (e[1],e[0]) in G.edges:\n",
    "                c+=1\n",
    "    return int(c/2)\n",
    "\n",
    "def get_len_out_degree(G, val_out_degree):\n",
    "    out_degree_view = G.out_degree()\n",
    "    c = 0\n",
    "    for elem in out_degree_view:\n",
    "        if elem[1] == val_out_degree:\n",
    "            c+=1\n",
    "    return c\n",
    "\n",
    "def get_len_in_degree(G, val_in_degree):\n",
    "    in_degree_view = G.in_degree()\n",
    "    c = 0\n",
    "    for elem in in_degree_view:\n",
    "        if elem[1] == val_in_degree:\n",
    "            c+=1\n",
    "    return c\n",
    "\n",
    "def get_len_out_degree_gt_10(G):\n",
    "    out_degree_view = G.out_degree()\n",
    "    c = 0\n",
    "    for elem in out_degree_view:\n",
    "        if elem[1] > 10:\n",
    "            c+=1\n",
    "    return c\n",
    "\n",
    "def get_len_in_degree_lt_10(G):\n",
    "    in_degree_view = G.in_degree()\n",
    "    c = 0\n",
    "    for elem in in_degree_view:\n",
    "        if elem[1] < 10:\n",
    "            c+=1\n",
    "    return c\n",
    "\n",
    "# file_name = \"test_1.txt\"\n",
    "file_name = \"Wiki-Vote.txt\"\n",
    "dG = nx.read_edgelist(file_name, create_using=nx.DiGraph)\n",
    "uG = dG.to_undirected()\n",
    "no_edges = dG.number_of_edges()\n",
    "no_edges_uG = uG.number_of_edges()\n",
    "a1 = dG.number_of_nodes() \n",
    "a2 = len(list(nx.selfloop_edges(dG)))\n",
    "a3 = no_edges - a2\n",
    "a4 = no_edges_uG - a2\n",
    "a5 = get_len_reciprocated_edges(dG) \n",
    "a6 = get_len_out_degree(dG,0)\n",
    "a7 = get_len_in_degree(dG,0)\n",
    "a8 = get_len_out_degree_gt_10(dG)\n",
    "a9 = get_len_in_degree_lt_10(dG)\n",
    "\n",
    "print(\"The number of nodes in the network : \", a1)\n",
    "print(\"The number of nodes with a self-edge (self-loop) : \", a2)\n",
    "print(\"The number of directed edges in the network : \", a3)\n",
    "print(\"The number of undirected edges in the network : \", a4)\n",
    "print(\"The number of reciprocated edges in the network : \", a5)\n",
    "print(\"The number of nodes of zero out-degree : \", a6)\n",
    "print(\"The number of nodes of zero in-degree : \", a7)\n",
    "print(\"The number of nodes with more than 10 outgoing edges : \", a8)\n",
    "print(\"The number of nodes with fewer than 10 incoming edges : \", a9)"
   ]
  },
  {
   "cell_type": "markdown",
   "metadata": {},
   "source": [
    "### 2 Further Analyzing the Wikipedia voters network [6 points]"
   ]
  },
  {
   "cell_type": "code",
   "execution_count": 98,
   "metadata": {},
   "outputs": [
    {
     "data": {
      "text/plain": [
       "Text(0, 0.5, 'Count')"
      ]
     },
     "execution_count": 98,
     "metadata": {},
     "output_type": "execute_result"
    },
    {
     "data": {
      "image/png": "[encoded data removed]",
      "text/plain": [
       "<Figure size 432x288 with 1 Axes>"
      ]
     },
     "metadata": {
      "needs_background": "light"
     },
     "output_type": "display_data"
    }
   ],
   "source": [
    "list_od = dG.out_degree()\n",
    "list_sod = sorted(list_od, key=lambda tup: tup[1])\n",
    "min_x = list_sod[0][1]\n",
    "max_x = list_sod[-1][1]\n",
    "dict_od = {}\n",
    "for elem in list_sod:\n",
    "    if elem[1] not in dict_od.keys():\n",
    "        dict_od[elem[1]] = 1\n",
    "    else:\n",
    "        dict_od[elem[1]] += 1\n",
    "list_x = []\n",
    "list_y = []\n",
    "for k,v in dict_od.items():\n",
    "    list_x.append(k)\n",
    "    list_y.append(v)\n",
    "fig1 = plt.figure(constrained_layout=True)\n",
    "spec1 = gridspec.GridSpec(ncols=1, nrows=1, figure=fig1)\n",
    "ax1 = fig1.add_subplot(spec1[0, 0])\n",
    "fig1.suptitle('Plot : Out Degree Distribution (scale: log-log)')\n",
    "# ax1.plot(list_x, list_y, color='blue', marker='.')\n",
    "ax1.loglog(list_x, list_y, color='blue', marker='.')\n",
    "ax1.set_xlabel('Out Degree')\n",
    "ax1.set_ylabel('Count')"
   ]
  },
  {
   "cell_type": "markdown",
   "metadata": {},
   "source": [
    "### 3 Finding Experts on the Java Programming Language on StackOverflow[5 points]"
   ]
  },
  {
   "cell_type": "code",
   "execution_count": 99,
   "metadata": {},
   "outputs": [
    {
     "name": "stdout",
     "output_type": "stream",
     "text": [
      "1. The number of weakly connected components in the network :  10143\n",
      "2a. The number of nodes in the largest weakly connected component :  131188\n",
      "2b. The number of edges in the largest weakly connected component :  322486\n"
     ]
    }
   ],
   "source": [
    "file_name = \"stackoverflow-java.txt\"\n",
    "dG_stack = nx.read_edgelist(file_name, create_using=nx.DiGraph)\n",
    "no_wcc_stack = len(list(nx.weakly_connected_components(dG_stack)))\n",
    "largest_wcc_stack = dG_stack.subgraph(sorted(nx.weakly_connected_components(dG_stack), key=len, reverse=True)[0])\n",
    "no_nodes_lwccs = largest_wcc_stack.number_of_nodes()\n",
    "no_edges_lwccs = largest_wcc_stack.number_of_edges()\n",
    "print(\"1. The number of weakly connected components in the network : \", no_wcc_stack)\n",
    "print(\"2a. The number of nodes in the largest weakly connected component : \", no_nodes_lwccs)\n",
    "print(\"2b. The number of edges in the largest weakly connected component : \", no_edges_lwccs)"
   ]
  },
  {
   "cell_type": "markdown",
   "metadata": {},
   "source": [
    "### 4 Network Characteristics [40 points]:\n",
    "Erdos-Renyi Random graph (G(n, m) random network): Generate a random instance of this model by\n",
    "using n = 5242 nodes and picking m = 14484 edges at random. Write code to construct instances of\n",
    "this model, i.e., do not call the NetworkX function. Compare your results (major properties like degree\n",
    "distribution, clustering coefficient, and diameter) with the NetworkX implementation.\n",
    "\n",
    "Small-World Random Network: Generate an instance from this model as follows: begin with n = 5242\n",
    "nodes arranged as a ring, i.e., imagine the nodes form a circle and each node is connected to its two\n",
    "direct neighbors (e.g., node 399 is connected to nodes 398 and 400), giving us 5242 edges. Next,\n",
    "connect each node to the neighbors of its neighbors (e.g., node 399 is also connected to nodes 397\n",
    "and 401). This gives us another 5242 edges. Finally, randomly select 4000 pairs of nodes not yet\n",
    "connected and add an edge between them. In total, this will make m = 5242 · 2 + 4000 = 14484 edges.\n",
    "Write code to construct instances of this model, i.e., do not call a NetworkX function. Report the\n",
    "properties of this network."
   ]
  },
  {
   "cell_type": "code",
   "execution_count": null,
   "metadata": {},
   "outputs": [],
   "source": [
    "class custom_Gnm:\n",
    "    def __init__(n,m,directed=False):\n",
    "        self.n = n\n",
    "        self.m = m\n",
    "        self.directed = directed\n",
    "        self.nodes = []\n",
    "import random\n",
    "rr = random.random()"
   ]
  },
  {
   "cell_type": "code",
   "execution_count": null,
   "metadata": {},
   "outputs": [],
   "source": [
    "import matplotlib.pyplot as plt\n",
    "from networkx import nx\n",
    "\n",
    "n = 10  # 10 nodes\n",
    "m = 20  # 20 edges\n",
    "\n",
    "G = nx.gnm_random_graph(n, m)\n",
    "\n",
    "# some properties\n",
    "print(\"node degree clustering\")\n",
    "for v in nx.nodes(G):\n",
    "    print(f\"{v} {nx.degree(G, v)} {nx.clustering(G, v)}\")\n",
    "\n",
    "print()\n",
    "print(\"the adjacency list\")\n",
    "for line in nx.generate_adjlist(G):\n",
    "    print(line)\n",
    "\n",
    "nx.draw(G)\n",
    "plt.show()"
   ]
  },
  {
   "cell_type": "markdown",
   "metadata": {},
   "source": [
    "### 5 Random Graphs with Clustering [40 points]\n",
    "Consider the following random graph model with clustering. For n nodes, we have distinct\n",
    "‘triplets’. For each triplet, with independent probability p we connect the nodes belonging to this\n",
    "triplet in the graph using three edges to form a triangle, where , where c is a constant.\n",
    "Assume n is very large.\n",
    "Question: Prove that the expected degree in this model is 2c. [Hint: expected degree of a node u in\n",
    "this generative model is equal to twice the expected number of triangles incident on u]\n",
    "Question: What is the clustering coefficient C? What is the value of C as n tends to infinity?\n",
    "Question: Implement this model to computationally derive degree distribution, diameter, and\n",
    "clustering coefficient.\n"
   ]
  },
  {
   "cell_type": "code",
   "execution_count": null,
   "metadata": {},
   "outputs": [],
   "source": []
  }
 ],
 "metadata": {
  "kernelspec": {
   "display_name": "Python 3",
   "language": "python",
   "name": "python3"
  },
  "language_info": {
   "codemirror_mode": {
    "name": "ipython",
    "version": 3
   },
   "file_extension": ".py",
   "mimetype": "text/x-python",
   "name": "python",
   "nbconvert_exporter": "python",
   "pygments_lexer": "ipython3",
   "version": "3.7.7"
  },
  "pycharm": {
   "stem_cell": {
    "cell_type": "raw",
    "metadata": {
     "collapsed": false
    },
    "source": []
   }
  }
 },
 "nbformat": 4,
 "nbformat_minor": 4
}
